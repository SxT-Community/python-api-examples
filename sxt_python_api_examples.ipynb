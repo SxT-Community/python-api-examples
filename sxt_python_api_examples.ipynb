{
  "nbformat": 4,
  "nbformat_minor": 0,
  "metadata": {
    "colab": {
      "provenance": [],
      "authorship_tag": "ABX9TyO2YZEjqrQA8L+8ZprsTvjw",
      "include_colab_link": true
    },
    "kernelspec": {
      "name": "python3",
      "display_name": "Python 3"
    },
    "language_info": {
      "name": "python"
    }
  },
  "cells": [
    {
      "cell_type": "markdown",
      "metadata": {
        "id": "view-in-github",
        "colab_type": "text"
      },
      "source": [
        "<a href=\"https://colab.research.google.com/github/SxT-Community/python-api-examples/blob/colab-notebook/sxt_python_api_examples.ipynb\" target=\"_parent\"><img src=\"https://colab.research.google.com/assets/colab-badge.svg\" alt=\"Open In Colab\"/></a>"
      ]
    },
    {
      "cell_type": "markdown",
      "source": [
        "This notebook will walk you though key generation, authentication, and running a query using Python to interact with the Space and Time API. You can find raw Python scripts in the [repo](https://github.com/SxT-Community/python-api-examples) or in the [SxT docs](https://docs.spaceandtime.io/docs/api-workflow).  \n",
        "\n",
        "First, lets install some dependencies:"
      ],
      "metadata": {
        "id": "SfL7xbTMQtin"
      }
    },
    {
      "cell_type": "code",
      "source": [
        "!pip install eth_account==0.8.0\n",
        "!pip install PyNaCl==1.5.0\n",
        "!pip install requests==2.28.2\n",
        "!pip install cryptography==40.0.2\n",
        "!pip install colab-env"
      ],
      "metadata": {
        "id": "ZTgkECIkkNQW"
      },
      "execution_count": null,
      "outputs": []
    },
    {
      "cell_type": "markdown",
      "source": [],
      "metadata": {
        "id": "5IASQ1rtEXBs"
      }
    },
    {
      "cell_type": "markdown",
      "source": [
        "Second, we'll set up some envars using the colab_env package. Create a file in your google drive called `vars.env` with the following variables:\n",
        "\n",
        "```\n",
        "# Required\n",
        "API_URL = \"https://<your-SxT-API-URL>/v1/\"\n",
        "USER_PRIVATE_KEY = \"<your-sxt-authentication-private-key>\"\n",
        "USER_PUBLIC_KEY = \"your-sxt-authentication-public-key>\"\n",
        "AUTH_SCHEME = \"ed25519\"\n",
        "# Optional \n",
        "ORG_CODE = \"<your-sxt-org-code\" # also called Join Code\n",
        "BISCUIT=\"<your-biscuit-here>\"\n",
        "BISCUIT_PUBLIC_KEY=\"<your-biscuit-public-key-here\" \n",
        "```"
      ],
      "metadata": {
        "id": "CSdJfk4xcNZ4"
      }
    },
    {
      "cell_type": "markdown",
      "source": [
        "Now make sure your variables are loaded. This should return the SxT API URL:"
      ],
      "metadata": {
        "id": "fiVW6897eZbv"
      }
    },
    {
      "cell_type": "code",
      "source": [
        "import colab_env\n",
        "import os\n",
        "\n",
        "colab_env.RELOAD()\n",
        "os.getenv(\"API_URL\")\n",
        "\n",
        "# useful for troubleshooting \n",
        "# !more gdrive/My\\ Drive/vars.env\n"
      ],
      "metadata": {
        "id": "mONWxrOsUlUL"
      },
      "execution_count": null,
      "outputs": []
    },
    {
      "cell_type": "markdown",
      "source": [
        "Third, lets generate a key pair that you will use to authenticate into Space and Time. In this notebook well generate Ed25529 keys. \n",
        "\n",
        "Please note, at the bottom of the script there are commands to automatically write your keys to your vars.env file. **Be aware, this will overwrite any existing keys you have in your `vars.env` file. Please comment those lines out if you simply want to generate keys to the notebook.**\n",
        " "
      ],
      "metadata": {
        "id": "ScQi94oqfLdP"
      }
    },
    {
      "cell_type": "code",
      "execution_count": null,
      "metadata": {
        "id": "150q5cr_jSCv"
      },
      "outputs": [],
      "source": [
        "# -*- coding: utf-8 -*-\n",
        "# generate-Ed25519-keys.py\n",
        "\n",
        "import os\n",
        "import base64\n",
        "from cryptography.hazmat.primitives import serialization\n",
        "from cryptography.hazmat.primitives.asymmetric.ed25519 import Ed25519PrivateKey\n",
        "\n",
        "# Generate a random 32-byte seed\n",
        "seed = os.urandom(32)\n",
        "\n",
        "# Create a private key from the seed\n",
        "private_key = Ed25519PrivateKey.from_private_bytes(seed)\n",
        "\n",
        "# Get the corresponding public key\n",
        "public_key = private_key.public_key()\n",
        "\n",
        "# Encode the private and public keys as bytes\n",
        "private_key_bytes = private_key.private_bytes(\n",
        "    encoding=serialization.Encoding.Raw,\n",
        "    format=serialization.PrivateFormat.Raw,\n",
        "    encryption_algorithm=serialization.NoEncryption()\n",
        ")\n",
        "public_key_bytes = public_key.public_bytes(\n",
        "    encoding=serialization.Encoding.Raw,\n",
        "    format=serialization.PublicFormat.Raw\n",
        ")\n",
        "\n",
        "# Encode the private key, and public key in Base64 format\n",
        "private_key_base64 = base64.b64encode(private_key_bytes)\n",
        "public_key_base64 = base64.b64encode(public_key_bytes)\n",
        "\n",
        "# Print the private key, and public key in Base64 format\n",
        "print(\"Private Key (Base64):\", private_key_base64.decode())\n",
        "print(\"Public Key (Base64):\", public_key_base64.decode())\n",
        "\n",
        "# write keys to your vars.env\n",
        "colab_env.envvar_handler.add_env(\"USER_PRIVATE_KEY\", private_key_base64.decode(), overwrite=True)\n",
        "colab_env.envvar_handler.add_env(\"USER_PUBLIC_KEY\", public_key_base64.decode(), overwrite=True)\n"
      ]
    },
    {
      "cell_type": "markdown",
      "source": [
        "Get our logger setup to work with colab:"
      ],
      "metadata": {
        "id": "4rZ1VzGVftWa"
      }
    },
    {
      "cell_type": "code",
      "source": [
        "import logging\n",
        "print(logging.root.handlers) # might show NOTSET\n",
        "for handler in logging.root.handlers[:]:\n",
        "    logging.root.removeHandler(handler)\n",
        "print(logging.root.handlers) # should now return []"
      ],
      "metadata": {
        "id": "O7oinWORa6qU"
      },
      "execution_count": null,
      "outputs": []
    },
    {
      "cell_type": "markdown",
      "source": [
        "^^ https://stackoverflow.com/a/74121821"
      ],
      "metadata": {
        "id": "l8OPACGTbI3V"
      }
    },
    {
      "cell_type": "markdown",
      "source": [
        "# Register and Authenticate "
      ],
      "metadata": {
        "id": "bSj01Y-Kk8Dm"
      }
    },
    {
      "cell_type": "markdown",
      "source": [
        "Set your user id. If the user exists, it will authenticate. If the user does not exist, it will register the new user and then authenticate. "
      ],
      "metadata": {
        "id": "DX0W5EVILIyf"
      }
    },
    {
      "cell_type": "code",
      "source": [
        "user_id = '<your-user-id-here>'"
      ],
      "metadata": {
        "id": "2OAml1XwYIPl"
      },
      "execution_count": 9,
      "outputs": []
    },
    {
      "cell_type": "code",
      "source": [
        "# -*- coding: utf-8 -*-\n",
        "# register-authenticate.py\n",
        "import requests\n",
        "import sys\n",
        "import json\n",
        "import logging\n",
        "from nacl.signing import SigningKey\n",
        "import base64\n",
        "import colab_env\n",
        "import os\n",
        "\n",
        "logger = logging.getLogger('my_logger')\n",
        "logging.basicConfig(level=logging.INFO, force=True)\n",
        "headers = {\"accept\": \"application/json\"}\n",
        "\n",
        "try: \n",
        "    api_url = os.getenv('API_URL')\n",
        "except:\n",
        "    logging.error('Please make sure you set the SxT API_URL value in your .env file!')\n",
        "    sys.exit()\n",
        "try: \n",
        "    org_code = os.getenv('ORG_CODE')\n",
        "    user_private_key = os.getenv('USER_PRIVATE_KEY')\n",
        "    user_public_key = os.getenv('USER_PUBLIC_KEY')\n",
        "except:\n",
        "    logging.warning('Without ORG_CODE, and KEYS set, this script will be limited to checking if user_ids exist!')\n",
        "     \n",
        "def main():\n",
        "    #1) Check is user_id exists, if not, register it\n",
        "    if not user_id_exists():\n",
        "        logging.info('Lets create your user ID!')\n",
        "        authenticate()\n",
        "    #2) If user_id already exists, then authenticate \n",
        "    else:\n",
        "        logging.info('Time to authenticate!')\n",
        "        authenticate()\n",
        "\n",
        "# https://docs.spaceandtime.io/reference/user-identifier-check\n",
        "def user_id_exists():\n",
        "    url = api_url + \"auth/idexists/\" + user_id\n",
        "    logging.info(f'Checking id: {user_id} with URL: {url}')\n",
        "\n",
        "    resp = requests.get(url, headers=headers)\n",
        "    \n",
        "    if resp.status_code == 200 and resp.text == 'true':\n",
        "        logging.info(\"UserID exists!\")\n",
        "        return True\n",
        "    elif resp.status_code == 200 and resp.text == 'false':\n",
        "        logging.info(\"UserID doesn't exist!\")\n",
        "        return False\n",
        "    else: \n",
        "        logging.error(\"We did not connect with the SxT API successfully!\")\n",
        "        logging.error(resp.status_code, resp.text)\n",
        "        sys.exit()\n",
        "\n",
        "# https://docs.spaceandtime.io/reference/authentication-code\n",
        "def authenticate():\n",
        "    # 1) Request auth code from SxT API \n",
        "    auth_code = request_auth_code()\n",
        "\n",
        "    # 2) Sign the auth code with our private key\n",
        "    signed_auth_code = sign_message(auth_code)\n",
        "    \n",
        "    # 3) Request access token using signed_auth_code \n",
        "    access_token, refresh_token = request_token(auth_code, signed_auth_code)\n",
        "    \n",
        "    logging.info(f'Authenticaiton to the SxT API has been completed successfully!\\nAccess token:\\n{access_token}\\nRefresh token:\\n{refresh_token}')\n",
        "    return \n",
        "\n",
        "# https://docs.spaceandtime.io/reference/authentication-code\n",
        "def request_auth_code():\n",
        "    url = api_url + \"auth/code\"\n",
        "    # SxT Subscription model recently launched and Join Code is now optional\n",
        "    \"\"\"payload = {\n",
        "        \"userId\": user_id,\n",
        "        \"joinCode\": org_code\n",
        "    }\"\"\"\n",
        "    payload = {\n",
        "        \"userId\": user_id\n",
        "    }\n",
        "    resp = requests.post(url, json=payload, headers=headers)\n",
        "   \n",
        "    jsonResponse = resp.json()\n",
        "    logging.debug(f'auth/code response: {jsonResponse}')\n",
        "\n",
        "    if resp.status_code == 200: \n",
        "        auth_code = jsonResponse[\"authCode\"]\n",
        "    else: \n",
        "        logging.error('Non 200 response from the auth/code endpoint! Stopping.')\n",
        "        logging.error(f'Response Code: {resp.status_code}, Response Text: {resp.text}')\n",
        "        sys.exit()\n",
        "\n",
        "    return auth_code \n",
        "\n",
        "def sign_message(auth_code):\n",
        "    # get bytes of the auth code for signing  \n",
        "    bytes_message = bytes(auth_code, 'utf-8')\n",
        "    # decode private key for signing \n",
        "    key = base64.b64decode(user_private_key)\n",
        "    # create signing key\n",
        "    signingkey = SigningKey(key)\n",
        "    # finally, sign the auth code with our private key\n",
        "    signed_message = signingkey.sign(bytes_message)\n",
        "\n",
        "    logging.debug(\"Signature | hashed message, hex: \" + signed_message.hex())\n",
        "    logging.debug(\"Signature, hex: \" + signed_message[:64].hex())\n",
        "\n",
        "    return signed_message[:64].hex()\n",
        "\n",
        "# https://docs.spaceandtime.io/reference/token-request\n",
        "def request_token(auth_code, signed_auth_code):\n",
        "\n",
        "    url = api_url + \"auth/token\"\n",
        "    payload = {\n",
        "        \"userId\": user_id,\n",
        "        \"authCode\": auth_code,\n",
        "        \"signature\": signed_auth_code,\n",
        "        \"key\": user_public_key,\n",
        "        \"scheme\": os.getenv('AUTH_SCHEME')\n",
        "    }\n",
        "\n",
        "    resp = requests.post(url, json=payload, headers=headers)\n",
        "    \n",
        "    if resp.status_code != 200:\n",
        "        logging.error('Failed to request token from the API!')\n",
        "        logging.error(resp.status_code, resp.text)\n",
        "        sys.exit()\n",
        "    \n",
        "    jsonResp = resp.json()\n",
        "    logging.debug(f'auth/token response: {jsonResp}')\n",
        "\n",
        "    return jsonResp[\"accessToken\"],jsonResp[\"refreshToken\"]\n",
        "\n",
        "\n",
        "if __name__ == \"__main__\":\n",
        "    main()\n",
        "\n",
        "   "
      ],
      "metadata": {
        "id": "GXiwKJ99k-83"
      },
      "execution_count": null,
      "outputs": []
    },
    {
      "cell_type": "markdown",
      "source": [
        "# Query Data\n",
        "**Coming Soon**"
      ],
      "metadata": {
        "id": "GzvpvWKJjtSI"
      }
    }
  ]
}