{
  "nbformat": 4,
  "nbformat_minor": 0,
  "metadata": {
    "colab": {
      "provenance": [],
      "authorship_tag": "ABX9TyM5dBp6FW//KW0fZ1E/Hom9",
      "include_colab_link": true
    },
    "kernelspec": {
      "name": "python3",
      "display_name": "Python 3"
    },
    "language_info": {
      "name": "python"
    }
  },
  "cells": [
    {
      "cell_type": "markdown",
      "metadata": {
        "id": "view-in-github",
        "colab_type": "text"
      },
      "source": [
        "<a href=\"https://colab.research.google.com/github/SxT-Community/python-api-examples/blob/colab-notebook/sxt_python_api_examples.ipynb\" target=\"_parent\"><img src=\"https://colab.research.google.com/assets/colab-badge.svg\" alt=\"Open In Colab\"/></a>"
      ]
    },
    {
      "cell_type": "code",
      "source": [
        "!pip install eth_account==0.8.0\n",
        "!pip install PyNaCl==1.5.0\n",
        "!pip install requests==2.28.2\n",
        "!pip install colab-env"
      ],
      "metadata": {
        "id": "ZTgkECIkkNQW"
      },
      "execution_count": null,
      "outputs": []
    },
    {
      "cell_type": "markdown",
      "source": [
        "First, lets generate a key pair that you will use to authenticate into Space and Time. For this example, we'll use the ed25529 scheme:"
      ],
      "metadata": {
        "id": "ScQi94oqfLdP"
      }
    },
    {
      "cell_type": "code",
      "execution_count": null,
      "metadata": {
        "id": "150q5cr_jSCv"
      },
      "outputs": [],
      "source": [
        "# -*- coding: utf-8 -*-\n",
        "# generate-keys.py\n",
        "from eth_account import Account\n",
        "import secrets\n",
        "import nacl.utils\n",
        "from nacl.public import PrivateKey\n",
        "import base64\n",
        "import json\n",
        "\n",
        "def generate_eth_account(): \n",
        "    priv = secrets.token_hex(32)\n",
        "    private_key = \"0x\" + priv\n",
        "    public_key = Account.from_key(private_key)\n",
        "    print('\\nEthereum based keypair:')\n",
        "    print_keys(private_key, public_key.address)\n",
        "\n",
        "def generate_ED25529_keys():\n",
        "    # Generate a private key public key pair \n",
        "    private_key = PrivateKey.generate()\n",
        "    public_key = private_key.public_key\n",
        "    # base64 encode the keys \n",
        "    b64_private_key = private_key.encode(encoder=nacl.encoding.Base64Encoder)\n",
        "    b64_public_key = public_key.encode(encoder=nacl.encoding.Base64Encoder)\n",
        "    # print the keys (bytes to base64 string)\n",
        "    print('\\nED25529 based keypair:')\n",
        "    print_keys(b64_private_key.decode(), b64_public_key.decode())\n",
        "\n",
        "def print_keys(sk,pk):\n",
        "    print(\"private key:\", sk)\n",
        "    print(\"public key:\", pk)\n",
        "\n",
        "# generate_eth_account()\n",
        "generate_ED25529_keys()\n"
      ]
    },
    {
      "cell_type": "markdown",
      "source": [
        "Second, we'll set up some envars using the colab_env package. Create a file in your google drive called `vars.env` with the following variables:\n",
        "\n",
        "```\n",
        "# Required\n",
        "API_URL = \"https://api.spaceandtime.app/v1/\"\n",
        "USER_PRIVATE_KEY = \"<your-sxt-authentication-private-key>\"\n",
        "USER_PUBLIC_KEY = \"your-sxt-authentication-public-key>\"\n",
        "ORG_CODE = \"<your-sxt-org-code\"\n",
        "AUTH_SCHEME = \"ED25519\" # For wallets, use the chain ID. ETH_MAINNET = 1.\n",
        "# Optional \n",
        "BISCUIT=\"<your-biscuit-here>\"\n",
        "BISCUIT_PUBLIC_KEY=\"<your-biscuit-public-key-here\" \n",
        "```"
      ],
      "metadata": {
        "id": "CSdJfk4xcNZ4"
      }
    },
    {
      "cell_type": "markdown",
      "source": [
        "Now make sure your variables are loaded. This should return the SxT API URL:"
      ],
      "metadata": {
        "id": "fiVW6897eZbv"
      }
    },
    {
      "cell_type": "code",
      "source": [
        "import colab_env\n",
        "import os\n",
        "\n",
        "colab_env.RELOAD()\n",
        "os.getenv(\"API_URL\")\n",
        "\n",
        "# useful for troubleshooting \n",
        "# !more gdrive/My\\ Drive/vars.env\n"
      ],
      "metadata": {
        "id": "mONWxrOsUlUL"
      },
      "execution_count": null,
      "outputs": []
    },
    {
      "cell_type": "markdown",
      "source": [
        "Get our logger setup to work with colab:"
      ],
      "metadata": {
        "id": "4rZ1VzGVftWa"
      }
    },
    {
      "cell_type": "code",
      "source": [
        "import logging\n",
        "print(logging.root.handlers) # might show NOTSET\n",
        "for handler in logging.root.handlers[:]:\n",
        "    logging.root.removeHandler(handler)\n",
        "print(logging.root.handlers) # should now return []"
      ],
      "metadata": {
        "id": "O7oinWORa6qU"
      },
      "execution_count": null,
      "outputs": []
    },
    {
      "cell_type": "markdown",
      "source": [
        "^^ I don't fully understand why I need to do this to get logger working but it did the trick - https://stackoverflow.com/a/74121821"
      ],
      "metadata": {
        "id": "l8OPACGTbI3V"
      }
    },
    {
      "cell_type": "markdown",
      "source": [
        "# Register and Authenticate "
      ],
      "metadata": {
        "id": "bSj01Y-Kk8Dm"
      }
    },
    {
      "cell_type": "markdown",
      "source": [
        "Set your user id. If the user exists, it will authenticate. If the user does not exist, it will register the new user and then authenticate. "
      ],
      "metadata": {
        "id": "DX0W5EVILIyf"
      }
    },
    {
      "cell_type": "code",
      "source": [
        "user_id = 'axi0m'"
      ],
      "metadata": {
        "id": "2OAml1XwYIPl"
      },
      "execution_count": 8,
      "outputs": []
    },
    {
      "cell_type": "code",
      "source": [
        "# -*- coding: utf-8 -*-\n",
        "# register-authenticate.py\n",
        "import requests\n",
        "import sys\n",
        "import json\n",
        "import logging\n",
        "from nacl.signing import SigningKey\n",
        "import base64\n",
        "import colab_env\n",
        "import os\n",
        "\n",
        "logger = logging.getLogger('my_logger')\n",
        "logging.basicConfig(level=logging.INFO, force=True)\n",
        "headers = {\"accept\": \"application/json\"}\n",
        "\n",
        "try: \n",
        "    api_url = os.getenv('API_URL')\n",
        "except:\n",
        "    logging.error('Please make sure you set the SxT API_URL value in your .env file!')\n",
        "    sys.exit()\n",
        "try: \n",
        "    org_code = os.getenv('ORG_CODE')\n",
        "    user_private_key = os.getenv('USER_PRIVATE_KEY')\n",
        "    user_public_key = os.getenv('USER_PUBLIC_KEY')\n",
        "except:\n",
        "    logging.warning('Without ORG_CODE, and KEYS set, this script will be limited to checking if user_ids exist!')\n",
        "     \n",
        "def main():\n",
        "    #1) Check is user_id exists, if not, register it\n",
        "    if not user_id_exists():\n",
        "        logging.info('Lets create your user ID!')\n",
        "        authenticate()\n",
        "    #2) If user_id already exists, then authenticate \n",
        "    else:\n",
        "        logging.info('Time to authenticate!')\n",
        "        authenticate()\n",
        "\n",
        "# https://docs.spaceandtime.io/reference/user-identifier-check\n",
        "def user_id_exists():\n",
        "    url = api_url + \"auth/idexists/\" + user_id\n",
        "    logging.info(f'Checking id: {user_id} with URL: {url}')\n",
        "\n",
        "    resp = requests.get(url, headers=headers)\n",
        "    \n",
        "    if resp.status_code == 200 and resp.text == 'true':\n",
        "        logging.info(\"UserID exists!\")\n",
        "        return True\n",
        "    elif resp.status_code == 200 and resp.text == 'false':\n",
        "        logging.info(\"UserID doesn't exist!\")\n",
        "        return False\n",
        "    else: \n",
        "        logging.error(\"We did not connect with the SxT API successfully!\")\n",
        "        logging.error(resp.status_code, resp.text)\n",
        "        sys.exit()\n",
        "\n",
        "# https://docs.spaceandtime.io/reference/authentication-code\n",
        "def authenticate():\n",
        "    # 1) Request auth code from SxT API \n",
        "    auth_code = request_auth_code()\n",
        "\n",
        "    # 2) Sign the auth code with our private key\n",
        "    signed_auth_code = sign_message(auth_code)\n",
        "    \n",
        "    # 3) Request access token using signed_auth_code \n",
        "    access_token, refresh_token = request_token(auth_code, signed_auth_code)\n",
        "    \n",
        "    logging.info(f'Authenticaiton to the SxT API has been completed successfully!\\nAccess token:\\n{access_token}\\nRefresh token:\\n{refresh_token}')\n",
        "    return \n",
        "\n",
        "# https://docs.spaceandtime.io/reference/authentication-code\n",
        "def request_auth_code():\n",
        "    url = api_url + \"auth/code\"\n",
        "    payload = {\n",
        "        \"userId\": user_id,\n",
        "        \"joinCode\": org_code\n",
        "    }\n",
        "    resp = requests.post(url, json=payload, headers=headers)\n",
        "   \n",
        "    jsonResponse = resp.json()\n",
        "    logging.debug(f'auth/code response: {jsonResponse}')\n",
        "\n",
        "    if resp.status_code == 200: \n",
        "        auth_code = jsonResponse[\"authCode\"]\n",
        "    else: \n",
        "        print('Non 200 response from the auth/code endpoint! Stopping.')\n",
        "        sys.exit()\n",
        "\n",
        "    return auth_code \n",
        "\n",
        "def sign_message(auth_code):\n",
        "    # get bytes of the auth code for signing  \n",
        "    bytes_message = bytes(auth_code, 'utf-8')\n",
        "    # decode private key for signing \n",
        "    key = base64.b64decode(user_private_key)\n",
        "    # create signing key\n",
        "    signingkey = SigningKey(key)\n",
        "    # finally, sign the auth code with our private key\n",
        "    signed_message = signingkey.sign(bytes_message)\n",
        "\n",
        "    logging.debug(\"Signature | hashed message, hex: \" + signed_message.hex())\n",
        "    logging.debug(\"Signature, hex: \" + signed_message[:64].hex())\n",
        "\n",
        "    return signed_message[:64].hex()\n",
        "\n",
        "# https://docs.spaceandtime.io/reference/token-request\n",
        "def request_token(auth_code, signed_auth_code):\n",
        "\n",
        "    url = api_url + \"auth/token\"\n",
        "    payload = {\n",
        "        \"userId\": user_id,\n",
        "        \"authCode\": auth_code,\n",
        "        \"signature\": signed_auth_code,\n",
        "        \"key\": user_public_key,\n",
        "        \"scheme\": os.getenv('AUTH_SCHEME')\n",
        "    }\n",
        "\n",
        "    resp = requests.post(url, json=payload, headers=headers)\n",
        "    \n",
        "    if resp.status_code != 200:\n",
        "        logging.error('Failed to request token from the API!')\n",
        "        logging.error(resp.status_code, resp.text)\n",
        "        sys.exit()\n",
        "    \n",
        "    jsonResp = resp.json()\n",
        "    logging.debug(f'auth/token response: {jsonResp}')\n",
        "\n",
        "    return jsonResp[\"accessToken\"],jsonResp[\"refreshToken\"]\n",
        "\n",
        "\n",
        "if __name__ == \"__main__\":\n",
        "    main()\n",
        "\n",
        "   "
      ],
      "metadata": {
        "id": "GXiwKJ99k-83"
      },
      "execution_count": null,
      "outputs": []
    },
    {
      "cell_type": "markdown",
      "source": [
        "# Query Data\n",
        "**Coming Soon**"
      ],
      "metadata": {
        "id": "GzvpvWKJjtSI"
      }
    }
  ]
}